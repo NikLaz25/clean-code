{
 "cells": [
  {
   "cell_type": "markdown",
   "metadata": {},
   "source": [
    "### Пересмотреть свои предыдущие решения и найти  12 примеров имён переменных (не функций/методов), которые были плохими, и которые можно улучшить.\n",
    "Формат: было - стало // комментарий к контексту"
   ]
  },
  {
   "cell_type": "code",
   "execution_count": null,
   "metadata": {},
   "outputs": [],
   "source": [
    "name - card_name // имя карточки игрока\n",
    "result - list_of_player_card_values // список значений карточки игрока\n",
    "result2 - list_card_values_in_final_form // список значений карточки в итоговом виде, разбита на 3 строки\n",
    "finish - counting_number_of_player_moves // подсчёт числа ходов игрока\n",
    "count - value_of_player_score // значение счета игрока\n",
    "k - element_index // индекс элемента списка значений\n",
    "el - element_value // значение элемента списка значений\n",
    "n - number_of_matches_player_card // количество совпадений введенного ответа с элементами значений карточки игрока\n",
    "n1 - number_of_matches_computer_card // количество совпадений введенного ответа с элементами значений карточки компьютера\n",
    "number1 - randomly_selected_number // случайно выбранное число в заданном диапазоне\n",
    "number2 - answer_value // введенное значение ответа\n",
    "max = maximum_of_possible_randomly_number // максимум из возможного случайно выбранного числа\n",
    "memory_nym - list_of_answers_history // список данных ранее ответов, которые не должны повторяться"
   ]
  }
 ],
 "metadata": {
  "kernelspec": {
   "display_name": "Python 3",
   "language": "python",
   "name": "python3"
  },
  "language_info": {
   "codemirror_mode": {
    "name": "ipython",
    "version": 3
   },
   "file_extension": ".py",
   "mimetype": "text/x-python",
   "name": "python",
   "nbconvert_exporter": "python",
   "pygments_lexer": "ipython3",
   "version": "3.8.3"
  }
 },
 "nbformat": 4,
 "nbformat_minor": 4
}
